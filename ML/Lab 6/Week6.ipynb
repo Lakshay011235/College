{
  "nbformat": 4,
  "nbformat_minor": 0,
  "metadata": {
    "colab": {
      "provenance": []
    },
    "kernelspec": {
      "name": "python3",
      "display_name": "Python 3"
    },
    "language_info": {
      "name": "python"
    }
  },
  "cells": [
    {
      "cell_type": "markdown",
      "source": [
        "# 1. KNN Classification with Scikit-Learn:"
      ],
      "metadata": {
        "id": "07Kj0KNnXcB8"
      }
    },
    {
      "cell_type": "code",
      "execution_count": null,
      "metadata": {
        "colab": {
          "base_uri": "https://localhost:8080/",
          "height": 472
        },
        "id": "0A8HCjD5XVYI",
        "outputId": "8f856f27-106c-47eb-e0c4-641a78f7e9d8"
      },
      "outputs": [
        {
          "output_type": "display_data",
          "data": {
            "text/plain": [
              "<Figure size 640x480 with 1 Axes>"
            ],
            "image/png": "[encoded data removed]"
          },
          "metadata": {}
        }
      ],
      "source": [
        "import pandas as pd\n",
        "from sklearn.datasets import load_iris\n",
        "from sklearn.model_selection import train_test_split\n",
        "from sklearn.neighbors import KNeighborsClassifier\n",
        "from sklearn.metrics import accuracy_score\n",
        "\n",
        "# Load the Iris dataset\n",
        "iris = load_iris()\n",
        "X = iris.data\n",
        "y = iris.target\n",
        "\n",
        "# Split the data into training and testing sets\n",
        "X_train, X_test, y_train, y_test = train_test_split(X, y, test_size=0.2, random_state=42)\n",
        "\n",
        "# Create a KNN classifier with different values of k\n",
        "k_values = range(1, 31)\n",
        "accuracies = []\n",
        "\n",
        "for k in k_values:\n",
        "    knn = KNeighborsClassifier(n_neighbors=k)\n",
        "    knn.fit(X_train, y_train)\n",
        "    y_pred = knn.predict(X_test)\n",
        "    accuracy = accuracy_score(y_test, y_pred)\n",
        "    accuracies.append(accuracy)\n",
        "\n",
        "# Plot the accuracy vs. k graph\n",
        "import matplotlib.pyplot as plt\n",
        "\n",
        "plt.plot(k_values, accuracies)\n",
        "plt.xlabel(\"k\")\n",
        "plt.ylabel(\"Accuracy\")\n",
        "plt.title(\"KNN Accuracy vs. k\")\n",
        "plt.show()"
      ]
    },
    {
      "cell_type": "markdown",
      "source": [
        "# 2. Custom KNN Implementation with Different Distance Metrics:"
      ],
      "metadata": {
        "id": "f_W6ILp7Xbk3"
      }
    },
    {
      "cell_type": "code",
      "source": [
        "import numpy as np\n",
        "\n",
        "def euclidean_distance(x1, x2):\n",
        "    return np.sqrt(np.sum((x1 - x2) ** 2))\n",
        "\n",
        "def manhattan_distance(x1, x2):\n",
        "    return np.sum(np.abs(x1 - x2))\n",
        "\n",
        "def minkowski_distance(x1, x2, p):\n",
        "    return np.power(np.sum(np.power(np.abs(x1 - x2), p)), 1 / p)\n",
        "\n",
        "def chebyshev_distance(x1, x2):\n",
        "    return np.max(np.abs(x1 - x2))\n",
        "\n",
        "class CustomKNN:\n",
        "    def __init__(self, n_neighbors=5, distance_metric=\"euclidean\"):\n",
        "        self.n_neighbors = n_neighbors\n",
        "        self.distance_metric = distance_metric\n",
        "\n",
        "    def fit(self, X_train, y_train):\n",
        "        self.X_train = X_train\n",
        "        self.y_train = y_train\n",
        "\n",
        "    def predict(self, X_test):\n",
        "        y_pred = []\n",
        "        for x_test in X_test:\n",
        "            distances = []\n",
        "            for i in range(len(self.X_train)):\n",
        "                if self.distance_metric == \"euclidean\":\n",
        "                    distance = euclidean_distance(x_test, self.X_train[i])\n",
        "                elif self.distance_metric == \"manhattan\":\n",
        "                    distance = manhattan_distance(x_test, self.X_train[i])\n",
        "                elif self.distance_metric == \"minkowski\":\n",
        "                    distance = minkowski_distance(x_test, self.X_train[i], p=3)\n",
        "                elif self.distance_metric == \"chebyshev\":\n",
        "                    distance = chebyshev_distance(x_test, self.X_train[i])\n",
        "                distances.append((distance, i))\n",
        "            distances.sort()\n",
        "            neighbors = [self.y_train[i] for _, i in distances[:self.n_neighbors]]\n",
        "            y_pred.append(max(set(neighbors), key=list(neighbors).count))\n",
        "        return y_pred\n",
        "\n",
        "# Use the custom KNN implementation with different distance metrics\n",
        "knn_euclidean = CustomKNN(5, distance_metric=\"euclidean\")\n",
        "knn_manhattan = CustomKNN(5, distance_metric=\"manhattan\")\n",
        "knn_chebyshev = CustomKNN(5, distance_metric=\"chebyshev\")\n",
        "knn_minkowski = CustomKNN(5, distance_metric=\"minkowski\")\n",
        "\n",
        "# Train and evaluate the models\n",
        "knn_euclidean.fit(X_train, y_train)\n",
        "knn_manhattan.fit(X_train, y_train)\n",
        "knn_chebyshev.fit(X_train, y_train)\n",
        "knn_minkowski.fit(X_train, y_train)\n",
        "\n",
        "y_pred_euclidean = knn_euclidean.predict(X_test)\n",
        "y_pred_manhattan = knn_manhattan.predict(X_test)\n",
        "y_pred_chebyshev = knn_chebyshev.predict(X_test)\n",
        "y_pred_minkowski = knn_minkowski.predict(X_test)\n",
        "\n",
        "accuracy_euclidean = accuracy_score(y_test, y_pred_euclidean)\n",
        "accuracy_manhattan = accuracy_score(y_test, y_pred_manhattan)\n",
        "accuracy_chebyshev = accuracy_score(y_test, y_pred_chebyshev)\n",
        "accuracy_minkowski = accuracy_score(y_test, y_pred_minkowski)\n",
        "\n",
        "print(\"Accuracy (Euclidean):\", accuracy_euclidean)\n",
        "print(\"Accuracy (Manhattan):\", accuracy_manhattan)\n",
        "print(\"Accuracy (Chebyshev):\", accuracy_chebyshev)\n",
        "print(\"Accuracy (Minkowski):\", accuracy_minkowski)"
      ],
      "metadata": {
        "colab": {
          "base_uri": "https://localhost:8080/"
        },
        "id": "ZPNT6XJtYcq8",
        "outputId": "c3e6380d-aebe-4213-ed29-4229d6676048"
      },
      "execution_count": null,
      "outputs": [
        {
          "output_type": "stream",
          "name": "stdout",
          "text": [
            "Accuracy (Euclidean): 1.0\n",
            "Accuracy (Manhattan): 1.0\n",
            "Accuracy (Chebyshev): 1.0\n",
            "Accuracy (Minkowski): 0.9666666666666667\n"
          ]
        }
      ]
    },
    {
      "cell_type": "markdown",
      "source": [
        "# 3. Applying Custom KNN to Pima Indians Diabetes Database:"
      ],
      "metadata": {
        "id": "wHpl5VLHZVzV"
      }
    },
    {
      "cell_type": "code",
      "source": [
        "import pandas as pd\n",
        "from sklearn.model_selection import train_test_split\n",
        "from sklearn.preprocessing import StandardScaler\n",
        "from sklearn.neighbors import KNeighborsClassifier\n",
        "from sklearn.metrics import accuracy_score\n",
        "\n",
        "# Load the dataset\n",
        "data = pd.read_csv(\"diabetes.csv\")\n",
        "\n",
        "# Handle missing values (if necessary)\n",
        "# data = data.fillna(data.mean())\n",
        "\n",
        "# Standardize features\n",
        "scaler = StandardScaler()\n",
        "X = scaler.fit_transform(data.drop(\"Outcome\", axis=1))\n",
        "y = data[\"Outcome\"]\n",
        "\n",
        "# Split the data into training and testing sets\n",
        "X_train, X_test, y_train, y_test = train_test_split(X, y, test_size=0.2, random_state=47)\n",
        "\n",
        "# Create a KNN classifier with optimized parameters\n",
        "knn = KNeighborsClassifier(n_neighbors=5, algorithm='ball_tree')  # Use ball tree for efficiency\n",
        "knn.fit(X_train, y_train)\n",
        "\n",
        "# Make predictions and evaluate the model\n",
        "y_pred = knn.predict(X_test)\n",
        "accuracy = accuracy_score(y_test, y_pred)\n",
        "print(\"Accuracy:\", accuracy)"
      ],
      "metadata": {
        "colab": {
          "base_uri": "https://localhost:8080/"
        },
        "id": "GE7MSIh5Zpe1",
        "outputId": "17e1ceb8-77bc-4722-f757-e625867b230e"
      },
      "execution_count": null,
      "outputs": [
        {
          "output_type": "stream",
          "name": "stdout",
          "text": [
            "Accuracy: 0.7792207792207793\n"
          ]
        }
      ]
    }
  ]
}